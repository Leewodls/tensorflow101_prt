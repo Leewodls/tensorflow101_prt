{
 "cells": [
  {
   "cell_type": "markdown",
   "id": "0e2b1c63",
   "metadata": {},
   "source": [
    "# 데이터 타입 조정"
   ]
  },
  {
   "cell_type": "markdown",
   "id": "e9feb173",
   "metadata": {},
   "source": [
    "* 변수(칼럼) 타입 확인 : 데이터.dtypes\n",
    "* 변수를 범주형으로 변경:\n",
    "    *데이터['칼럼명'].ㅁㄴ쇼ㅔㄷ('ㅊㅁㅅㄷ해교"
   ]
  }
 ],
 "metadata": {
  "kernelspec": {
   "display_name": "Python 3 (ipykernel)",
   "language": "python",
   "name": "python3"
  },
  "language_info": {
   "codemirror_mode": {
    "name": "ipython",
    "version": 3
   },
   "file_extension": ".py",
   "mimetype": "text/x-python",
   "name": "python",
   "nbconvert_exporter": "python",
   "pygments_lexer": "ipython3",
   "version": "3.10.8"
  }
 },
 "nbformat": 4,
 "nbformat_minor": 5
}
