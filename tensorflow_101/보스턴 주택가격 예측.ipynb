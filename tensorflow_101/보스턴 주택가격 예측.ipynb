{
 "cells": [
  {
   "cell_type": "code",
   "execution_count": 2,
   "id": "98da2695",
   "metadata": {},
   "outputs": [],
   "source": [
    "import pandas as pd\n",
    "import tensorflow as tf"
   ]
  },
  {
   "cell_type": "code",
   "execution_count": 3,
   "id": "1ced8ab9",
   "metadata": {},
   "outputs": [],
   "source": [
    "boston = pd.read_csv('boston.csv')"
   ]
  },
  {
   "cell_type": "code",
   "execution_count": 4,
   "id": "16563442",
   "metadata": {},
   "outputs": [
    {
     "data": {
      "text/plain": [
       "Index(['crim', 'zn', 'indus', 'chas', 'nox', 'rm', 'age', 'dis', 'rad', 'tax',\n",
       "       'ptratio', 'b', 'lstat', 'medv'],\n",
       "      dtype='object')"
      ]
     },
     "execution_count": 4,
     "metadata": {},
     "output_type": "execute_result"
    }
   ],
   "source": [
    "boston.columns"
   ]
  },
  {
   "cell_type": "code",
   "execution_count": 5,
   "id": "7990cb36",
   "metadata": {},
   "outputs": [
    {
     "name": "stdout",
     "output_type": "stream",
     "text": [
      "(506, 13) (506, 1)\n"
     ]
    }
   ],
   "source": [
    "독립 = boston[['crim', 'zn', 'indus', 'chas', 'nox', 'rm', 'age', 'dis', 'rad', 'tax',\n",
    "       'ptratio', 'b', 'lstat']]\n",
    "종속 = boston[['medv']]\n",
    "print(독립.shape, 종속.shape)"
   ]
  },
  {
   "cell_type": "code",
   "execution_count": 6,
   "id": "08a81416",
   "metadata": {},
   "outputs": [],
   "source": [
    "X = tf.keras.layers.Input(shape=[13])\n",
    "Y = tf.keras.layers.Dense(1)(X)\n",
    "model = tf.keras.models.Model(X, Y)"
   ]
  },
  {
   "cell_type": "code",
   "execution_count": 7,
   "id": "139d9e50",
   "metadata": {},
   "outputs": [],
   "source": [
    "model.compile(loss='mse')"
   ]
  },
  {
   "cell_type": "code",
   "execution_count": 8,
   "id": "03c2aaca",
   "metadata": {
    "scrolled": true
   },
   "outputs": [
    {
     "name": "stdout",
     "output_type": "stream",
     "text": [
      "Epoch 1/10\n",
      "16/16 [==============================] - 0s 444us/step - loss: 23.5969\n",
      "Epoch 2/10\n",
      "16/16 [==============================] - 0s 424us/step - loss: 23.7287\n",
      "Epoch 3/10\n",
      "16/16 [==============================] - 0s 387us/step - loss: 23.7174\n",
      "Epoch 4/10\n",
      "16/16 [==============================] - 0s 406us/step - loss: 23.7274\n",
      "Epoch 5/10\n",
      "16/16 [==============================] - 0s 382us/step - loss: 23.9210\n",
      "Epoch 6/10\n",
      "16/16 [==============================] - 0s 374us/step - loss: 23.2809\n",
      "Epoch 7/10\n",
      "16/16 [==============================] - 0s 401us/step - loss: 24.2816\n",
      "Epoch 8/10\n",
      "16/16 [==============================] - 0s 429us/step - loss: 24.0952\n",
      "Epoch 9/10\n",
      "16/16 [==============================] - 0s 404us/step - loss: 23.5995\n",
      "Epoch 10/10\n",
      "16/16 [==============================] - 0s 380us/step - loss: 23.7922\n"
     ]
    },
    {
     "data": {
      "text/plain": [
       "<keras.src.callbacks.History at 0x16d7b6ec0>"
      ]
     },
     "execution_count": 8,
     "metadata": {},
     "output_type": "execute_result"
    }
   ],
   "source": [
    "model.fit(독립, 종속, epochs=10000, verbose=0) # verbose=0 - 학습이 완료되는 동안 출력 X\n",
    "model.fit(독립, 종속, epochs=10)"
   ]
  },
  {
   "cell_type": "code",
   "execution_count": 14,
   "id": "f3824916",
   "metadata": {},
   "outputs": [
    {
     "name": "stdout",
     "output_type": "stream",
     "text": [
      "1/1 [==============================] - 0s 10ms/step\n",
      "predictions:  [[25.840393]\n",
      " [22.85114 ]\n",
      " [19.768291]\n",
      " [11.685477]\n",
      " [19.094612]]\n"
     ]
    }
   ],
   "source": [
    "print('predictions: ', model.predict(독립[5:10]))"
   ]
  },
  {
   "cell_type": "code",
   "execution_count": 13,
   "id": "5d70a994",
   "metadata": {},
   "outputs": [
    {
     "data": {
      "text/html": [
       "<div>\n",
       "<style scoped>\n",
       "    .dataframe tbody tr th:only-of-type {\n",
       "        vertical-align: middle;\n",
       "    }\n",
       "\n",
       "    .dataframe tbody tr th {\n",
       "        vertical-align: top;\n",
       "    }\n",
       "\n",
       "    .dataframe thead th {\n",
       "        text-align: right;\n",
       "    }\n",
       "</style>\n",
       "<table border=\"1\" class=\"dataframe\">\n",
       "  <thead>\n",
       "    <tr style=\"text-align: right;\">\n",
       "      <th></th>\n",
       "      <th>medv</th>\n",
       "    </tr>\n",
       "  </thead>\n",
       "  <tbody>\n",
       "    <tr>\n",
       "      <th>5</th>\n",
       "      <td>28.7</td>\n",
       "    </tr>\n",
       "    <tr>\n",
       "      <th>6</th>\n",
       "      <td>22.9</td>\n",
       "    </tr>\n",
       "    <tr>\n",
       "      <th>7</th>\n",
       "      <td>27.1</td>\n",
       "    </tr>\n",
       "    <tr>\n",
       "      <th>8</th>\n",
       "      <td>16.5</td>\n",
       "    </tr>\n",
       "    <tr>\n",
       "      <th>9</th>\n",
       "      <td>18.9</td>\n",
       "    </tr>\n",
       "  </tbody>\n",
       "</table>\n",
       "</div>"
      ],
      "text/plain": [
       "   medv\n",
       "5  28.7\n",
       "6  22.9\n",
       "7  27.1\n",
       "8  16.5\n",
       "9  18.9"
      ]
     },
     "execution_count": 13,
     "metadata": {},
     "output_type": "execute_result"
    }
   ],
   "source": [
    "종속[5:10]"
   ]
  },
  {
   "cell_type": "code",
   "execution_count": 16,
   "id": "6e47aea0",
   "metadata": {},
   "outputs": [
    {
     "data": {
      "text/plain": [
       "[array([[-1.0013332e-01],\n",
       "        [ 4.7173489e-02],\n",
       "        [-2.9651641e-03],\n",
       "        [ 2.6264312e+00],\n",
       "        [-8.1617870e+00],\n",
       "        [ 4.7837186e+00],\n",
       "        [-5.3306706e-03],\n",
       "        [-1.2137805e+00],\n",
       "        [ 2.3802848e-01],\n",
       "        [-1.0699333e-02],\n",
       "        [-6.6895163e-01],\n",
       "        [ 1.2551336e-02],\n",
       "        [-4.8040083e-01]], dtype=float32),\n",
       " array([18.226444], dtype=float32)]"
      ]
     },
     "execution_count": 16,
     "metadata": {},
     "output_type": "execute_result"
    }
   ],
   "source": [
    "model.get_weights()  # 수식 확인"
   ]
  },
  {
   "cell_type": "code",
   "execution_count": null,
   "id": "0ade236b",
   "metadata": {},
   "outputs": [],
   "source": []
  }
 ],
 "metadata": {
  "kernelspec": {
   "display_name": "Python 3 (ipykernel)",
   "language": "python",
   "name": "python3"
  },
  "language_info": {
   "codemirror_mode": {
    "name": "ipython",
    "version": 3
   },
   "file_extension": ".py",
   "mimetype": "text/x-python",
   "name": "python",
   "nbconvert_exporter": "python",
   "pygments_lexer": "ipython3",
   "version": "3.10.8"
  }
 },
 "nbformat": 4,
 "nbformat_minor": 5
}
